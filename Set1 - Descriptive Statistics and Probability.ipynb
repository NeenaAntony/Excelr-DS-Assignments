{
 "cells": [
  {
   "cell_type": "code",
   "execution_count": 1,
   "id": "332b3b77",
   "metadata": {},
   "outputs": [],
   "source": [
    "import pandas as pd\n",
    "import numpy as np\n",
    "import seaborn as sns\n",
    "import warnings as warnings\n",
    "warnings.filterwarnings(\"ignore\")"
   ]
  },
  {
   "cell_type": "markdown",
   "id": "60c95801",
   "metadata": {},
   "source": [
    "# Question 1"
   ]
  },
  {
   "cell_type": "code",
   "execution_count": 2,
   "id": "42607eea",
   "metadata": {},
   "outputs": [],
   "source": [
    "set1=pd.read_excel(\"set1.xlsx\")"
   ]
  },
  {
   "cell_type": "code",
   "execution_count": 3,
   "id": "d7812502",
   "metadata": {},
   "outputs": [
    {
     "data": {
      "text/plain": [
       "(15, 2)"
      ]
     },
     "execution_count": 3,
     "metadata": {},
     "output_type": "execute_result"
    }
   ],
   "source": [
    "set1.shape"
   ]
  },
  {
   "cell_type": "code",
   "execution_count": 4,
   "id": "0151364b",
   "metadata": {},
   "outputs": [
    {
     "data": {
      "text/html": [
       "<div>\n",
       "<style scoped>\n",
       "    .dataframe tbody tr th:only-of-type {\n",
       "        vertical-align: middle;\n",
       "    }\n",
       "\n",
       "    .dataframe tbody tr th {\n",
       "        vertical-align: top;\n",
       "    }\n",
       "\n",
       "    .dataframe thead th {\n",
       "        text-align: right;\n",
       "    }\n",
       "</style>\n",
       "<table border=\"1\" class=\"dataframe\">\n",
       "  <thead>\n",
       "    <tr style=\"text-align: right;\">\n",
       "      <th></th>\n",
       "      <th>Name of company</th>\n",
       "      <th>Measure X</th>\n",
       "    </tr>\n",
       "  </thead>\n",
       "  <tbody>\n",
       "    <tr>\n",
       "      <th>0</th>\n",
       "      <td>Allied Signal</td>\n",
       "      <td>0.2423</td>\n",
       "    </tr>\n",
       "    <tr>\n",
       "      <th>1</th>\n",
       "      <td>Bankers Trust</td>\n",
       "      <td>0.2553</td>\n",
       "    </tr>\n",
       "    <tr>\n",
       "      <th>2</th>\n",
       "      <td>General Mills</td>\n",
       "      <td>0.2541</td>\n",
       "    </tr>\n",
       "    <tr>\n",
       "      <th>3</th>\n",
       "      <td>ITT Industries</td>\n",
       "      <td>0.2414</td>\n",
       "    </tr>\n",
       "    <tr>\n",
       "      <th>4</th>\n",
       "      <td>J.P.Morgan &amp; Co.</td>\n",
       "      <td>0.2962</td>\n",
       "    </tr>\n",
       "    <tr>\n",
       "      <th>5</th>\n",
       "      <td>Lehman Brothers</td>\n",
       "      <td>0.2825</td>\n",
       "    </tr>\n",
       "    <tr>\n",
       "      <th>6</th>\n",
       "      <td>Marriott</td>\n",
       "      <td>0.2581</td>\n",
       "    </tr>\n",
       "    <tr>\n",
       "      <th>7</th>\n",
       "      <td>MCI</td>\n",
       "      <td>0.2439</td>\n",
       "    </tr>\n",
       "    <tr>\n",
       "      <th>8</th>\n",
       "      <td>Merrill Lynch</td>\n",
       "      <td>0.4026</td>\n",
       "    </tr>\n",
       "    <tr>\n",
       "      <th>9</th>\n",
       "      <td>Microsoft</td>\n",
       "      <td>0.3295</td>\n",
       "    </tr>\n",
       "    <tr>\n",
       "      <th>10</th>\n",
       "      <td>Morgan Stanley</td>\n",
       "      <td>0.9136</td>\n",
       "    </tr>\n",
       "    <tr>\n",
       "      <th>11</th>\n",
       "      <td>Sun Microsystems</td>\n",
       "      <td>0.2599</td>\n",
       "    </tr>\n",
       "    <tr>\n",
       "      <th>12</th>\n",
       "      <td>Travelers</td>\n",
       "      <td>0.3942</td>\n",
       "    </tr>\n",
       "    <tr>\n",
       "      <th>13</th>\n",
       "      <td>US Airways</td>\n",
       "      <td>0.2671</td>\n",
       "    </tr>\n",
       "    <tr>\n",
       "      <th>14</th>\n",
       "      <td>Warner-Lambert</td>\n",
       "      <td>0.3500</td>\n",
       "    </tr>\n",
       "  </tbody>\n",
       "</table>\n",
       "</div>"
      ],
      "text/plain": [
       "     Name of company  Measure X\n",
       "0      Allied Signal     0.2423\n",
       "1      Bankers Trust     0.2553\n",
       "2      General Mills     0.2541\n",
       "3     ITT Industries     0.2414\n",
       "4   J.P.Morgan & Co.     0.2962\n",
       "5    Lehman Brothers     0.2825\n",
       "6           Marriott     0.2581\n",
       "7                MCI     0.2439\n",
       "8      Merrill Lynch     0.4026\n",
       "9          Microsoft     0.3295\n",
       "10    Morgan Stanley     0.9136\n",
       "11  Sun Microsystems     0.2599\n",
       "12         Travelers     0.3942\n",
       "13        US Airways     0.2671\n",
       "14    Warner-Lambert     0.3500"
      ]
     },
     "execution_count": 4,
     "metadata": {},
     "output_type": "execute_result"
    }
   ],
   "source": [
    "set1.head(15)"
   ]
  },
  {
   "cell_type": "code",
   "execution_count": 5,
   "id": "ae216eed",
   "metadata": {},
   "outputs": [
    {
     "data": {
      "text/plain": [
       "0.3327133333333333"
      ]
     },
     "execution_count": 5,
     "metadata": {},
     "output_type": "execute_result"
    }
   ],
   "source": [
    "set1[\"Measure X\"].mean() ## mean"
   ]
  },
  {
   "cell_type": "code",
   "execution_count": 6,
   "id": "74084b62",
   "metadata": {
    "scrolled": true
   },
   "outputs": [
    {
     "data": {
      "text/plain": [
       "0.028714661238095233"
      ]
     },
     "execution_count": 6,
     "metadata": {},
     "output_type": "execute_result"
    }
   ],
   "source": [
    "set1[\"Measure X\"].var() ## variance"
   ]
  },
  {
   "cell_type": "code",
   "execution_count": 10,
   "id": "2759ee0a",
   "metadata": {},
   "outputs": [
    {
     "data": {
      "text/plain": [
       "0.16945400921222029"
      ]
     },
     "execution_count": 10,
     "metadata": {},
     "output_type": "execute_result"
    }
   ],
   "source": [
    "set1[\"Measure X\"].std() ## Standard Deviation"
   ]
  },
  {
   "cell_type": "code",
   "execution_count": 7,
   "id": "cedf538a",
   "metadata": {},
   "outputs": [
    {
     "data": {
      "text/plain": [
       "<AxesSubplot:xlabel='Measure X'>"
      ]
     },
     "execution_count": 7,
     "metadata": {},
     "output_type": "execute_result"
    },
    {
     "data": {
      "image/png": "[encoded data removed]",
      "text/plain": [
       "<Figure size 640x480 with 1 Axes>"
      ]
     },
     "metadata": {},
     "output_type": "display_data"
    }
   ],
   "source": [
    "sns.boxplot(set1[\"Measure X\"]) ## outlier\n",
    "\n",
    "# outlier is Morgan Stanley\t0.9136 "
   ]
  },
  {
   "cell_type": "code",
   "execution_count": 17,
   "id": "23423c99",
   "metadata": {},
   "outputs": [
    {
     "name": "stdout",
     "output_type": "stream",
     "text": [
      "Measure X    0.08505\n",
      "dtype: float64\n"
     ]
    }
   ],
   "source": [
    "q1=set1.quantile(0.25)\n",
    "q3=set1.quantile(0.75)\n",
    "IQR=q3-q1\n",
    "print(IQR)\n"
   ]
  },
  {
   "cell_type": "code",
   "execution_count": 26,
   "id": "865c17b6",
   "metadata": {},
   "outputs": [
    {
     "name": "stdout",
     "output_type": "stream",
     "text": [
      "Lowest value :  Measure X    0.127125\n",
      "dtype: float64\n",
      "Highest value :  Measure X    0.467325\n",
      "dtype: float64\n"
     ]
    }
   ],
   "source": [
    "print('Lowest value : ',q1-(1.5*IQR))\n",
    "print('Highest value : ',q3+(1.5*IQR)) ## Outliers is <.127 and >.467 and the outlier is Morgan Stanley\t0.9136 "
   ]
  },
  {
   "cell_type": "markdown",
   "id": "8f8b5479",
   "metadata": {},
   "source": [
    "# Question 2"
   ]
  },
  {
   "cell_type": "code",
   "execution_count": 29,
   "id": "bd3a349b",
   "metadata": {},
   "outputs": [
    {
     "name": "stdout",
     "output_type": "stream",
     "text": [
      "IQR = 7\n"
     ]
    }
   ],
   "source": [
    "# Inter quartile range\n",
    "# 2 i )\n",
    "\n",
    "#IQR = Q3 - Q1 -> Inter quartile range = Upper quartile - lower quartile\n",
    "print('IQR = {}'.format(12 - 5))"
   ]
  },
  {
   "cell_type": "code",
   "execution_count": 30,
   "id": "a0b4d6d3",
   "metadata": {},
   "outputs": [],
   "source": [
    "# 2 ii)\n",
    "#Skewness\n",
    "\n",
    "# as per the box plot it is positively skewed(mean>median>mode) ,more values on right side ,median is not the centre of the box"
   ]
  },
  {
   "cell_type": "code",
   "execution_count": null,
   "id": "e5cbc827",
   "metadata": {},
   "outputs": [],
   "source": [
    "# 3 iii)\n",
    "# if 2.5 instead of 25 ,then median slightly will move to left side,and there will not be any outlier,still positivley skewed"
   ]
  },
  {
   "cell_type": "markdown",
   "id": "74e755da",
   "metadata": {},
   "source": [
    "# Question 3"
   ]
  },
  {
   "cell_type": "code",
   "execution_count": 31,
   "id": "be7b4753",
   "metadata": {},
   "outputs": [
    {
     "data": {
      "text/plain": [
       "'iii)\\n\\n    box plot - can identify median,quantiles,\\n    bar chart - can identify mode,kurtosis\\n    both box plot and bar chart - can identify outliers ,skewness,range\\n'"
      ]
     },
     "execution_count": 31,
     "metadata": {},
     "output_type": "execute_result"
    }
   ],
   "source": [
    "'''\n",
    "    i)mode is inbetween y axis 4- 8\n",
    "    ii)skewness - is right skewed,postively skewed, also has outliers\n",
    "    iii)box plot - can identify median,quantiles,\n",
    "        bar chart - can identify mode,kurtosis\n",
    "        both box plot and bar chart - can identify outliers ,skewness,range\n",
    "'''"
   ]
  },
  {
   "cell_type": "markdown",
   "id": "78f7d447",
   "metadata": {},
   "source": [
    "# Question 4"
   ]
  },
  {
   "cell_type": "code",
   "execution_count": null,
   "id": "2f1a84aa",
   "metadata": {},
   "outputs": [],
   "source": [
    "'''\n",
    "IF 1 in 200 long-distance telephone calls are getting misdirected.\n",
    "probability of call misdirecting = 1/200 \n",
    "Probability of call not Misdirecting = 1-1/200 = 199/200 \n",
    "The probability for at least one in five attempted telephone calls reaches the wrong number \n",
    "Number of Calls = 5\n",
    "n = 5 p = 1/200 q = 199/200 \n",
    "P(x) = at least one in five attempted telephone calls reaches the wrong number \n",
    "P(x) = ⁿCₓ pˣ qⁿ⁻ˣ P(x) \n",
    "= (nCx) (p^x) (q^n-x) # nCr \n",
    "= n! / r! * (n - r)! P(1)\n",
    "= (5C1) (1/200)^1 (199/200)^5-1 P(1) \n",
    "= 0.0245037\n",
    "'''"
   ]
  },
  {
   "cell_type": "markdown",
   "id": "848769f0",
   "metadata": {},
   "source": [
    "# Question 5"
   ]
  },
  {
   "cell_type": "code",
   "execution_count": null,
   "id": "73bf77ea",
   "metadata": {},
   "outputs": [],
   "source": [
    "'''\n",
    "ii)\n",
    "probability that the venture will make more than (0 or a profit) \n",
    "= p(x>0)+p(x>1000)+p(x>2000)+p(x=3000)\n",
    "= 0.2+0.2+0.3+0.1 = 0.8 \n",
    "There is 80% chances for this venture to be making a profit\n",
    "\n",
    "iii)Sum (X * P(X)) = 800$ which means on an average the returns will be + 800$\n",
    "\n",
    "iv)The good measure of the risk involved in a venture of this kind depends on the Variability in the distribution.\n",
    "    Higher Variance means more chances of risk \n",
    "    Var (X) = E(X^2) –(E(X))^2\n",
    "    = 2800000 – 800^2 = 2160000\n",
    "'''"
   ]
  }
 ],
 "metadata": {
  "kernelspec": {
   "display_name": "Python 3 (ipykernel)",
   "language": "python",
   "name": "python3"
  },
  "language_info": {
   "codemirror_mode": {
    "name": "ipython",
    "version": 3
   },
   "file_extension": ".py",
   "mimetype": "text/x-python",
   "name": "python",
   "nbconvert_exporter": "python",
   "pygments_lexer": "ipython3",
   "version": "3.9.13"
  }
 },
 "nbformat": 4,
 "nbformat_minor": 5
}
